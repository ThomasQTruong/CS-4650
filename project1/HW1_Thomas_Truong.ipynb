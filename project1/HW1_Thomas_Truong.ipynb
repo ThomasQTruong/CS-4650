{
 "cells": [
  {
   "cell_type": "code",
   "execution_count": 1,
   "id": "5c090fb5",
   "metadata": {},
   "outputs": [
    {
     "name": "stdout",
     "output_type": "stream",
     "text": [
      "Overwriting weather_analyzer.py\n"
     ]
    }
   ],
   "source": [
    "%%file weather_analyzer.py\n",
    "\"\"\"weather_analyzer.py\n",
    "  \n",
    "Contains a class for inputting/outputting specific weather data.\n",
    "\"\"\"\n",
    "\n",
    "import re\n",
    "import json\n",
    "from mrjob.job import MRJob\n",
    "\n",
    "\n",
    "# Global constant.\n",
    "QUALITY_RE = re.compile(r\"[01459]\")\n",
    "\n",
    "\n",
    "class WeatherAnalyzer(MRJob):\n",
    "  \"\"\"\n",
    "  Contains functions for inputting/outputting specific weather data.\n",
    "  \"\"\"\n",
    "\n",
    "  def mapper(self, _, line):\n",
    "    \"\"\"\n",
    "    Input: extracts wind direction, wind quality, temperature,\n",
    "      and temperature quality.\n",
    "    \"\"\"\n",
    "    # Clean data.\n",
    "    val = line.strip()\n",
    "\n",
    "    # Extract and map data.\n",
    "    wind_direction = val[60:63]\n",
    "    wind_quality = val[63]\n",
    "    temperature = val[87:92]\n",
    "    temperature_quality = val[92]\n",
    "\n",
    "    # Sad path: do not keep unknown values/mismatched qualities.\n",
    "    if (wind_direction == \"999\" or not re.match(QUALITY_RE, wind_quality)):\n",
    "      return\n",
    "    if(temperature == \"+9999\" or not re.match(QUALITY_RE, temperature_quality)):\n",
    "      return\n",
    "\n",
    "    # Yield the valid direction and dictionary of data.\n",
    "    yield wind_direction, {\n",
    "                            \"wind_quality\": wind_quality,\n",
    "                            \"temperature\": temperature,\n",
    "                            \"temperature_quality\": temperature_quality\n",
    "                          }\n",
    "\n",
    "\n",
    "  def reducer(self, key, values):\n",
    "    \"\"\"\n",
    "    Output: shows the low/high temperature and count for each\n",
    "      valid wind direction.\n",
    "    \"\"\"\n",
    "    # Store all the temperature values for the key (wind direction).\n",
    "    temperatures = []\n",
    "    for data in values:\n",
    "      temperatures.append(int(data[\"temperature\"]))\n",
    "\n",
    "    # Yields the key and a dictionary with the low, high, and count.\n",
    "    yield int(key), {\"low\": min(temperatures), \"high\": max(temperatures),\n",
    "                     \"count\": len(temperatures)}\n",
    "\n",
    "\n",
    "\n",
    "if __name__ == \"__main__\":\n",
    "  WeatherAnalyzer.run()\n"
   ]
  },
  {
   "cell_type": "markdown",
   "metadata": {},
   "source": []
  },
  {
   "cell_type": "code",
   "execution_count": 2,
   "id": "8b1d2b08",
   "metadata": {},
   "outputs": [
    {
     "name": "stdout",
     "output_type": "stream",
     "text": [
      "No configs found; falling back on auto-configuration\n",
      "No configs specified for inline runner\n",
      "Creating temp directory /tmp/weather_analyzer.thomas.20231001.214501.070329\n",
      "Running step 1 of 1...\n",
      "job output is in /tmp/weather_analyzer.thomas.20231001.214501.070329/output\n",
      "Streaming final output from /tmp/weather_analyzer.thomas.20231001.214501.070329/output...\n",
      "250\t{\"low\":-222,\"high\":311,\"count\":604}\n",
      "160\t{\"low\":-239,\"high\":289,\"count\":647}\n",
      "20\t{\"low\":-272,\"high\":317,\"count\":582}\n",
      "180\t{\"low\":-250,\"high\":294,\"count\":879}\n",
      "230\t{\"low\":-228,\"high\":283,\"count\":1488}\n",
      "340\t{\"low\":-300,\"high\":311,\"count\":427}\n",
      "110\t{\"low\":-239,\"high\":278,\"count\":296}\n",
      "140\t{\"low\":-328,\"high\":278,\"count\":1005}\n",
      "70\t{\"low\":-333,\"high\":278,\"count\":502}\n",
      "90\t{\"low\":-267,\"high\":272,\"count\":567}\n",
      "200\t{\"low\":-183,\"high\":300,\"count\":688}\n",
      "320\t{\"low\":-311,\"high\":306,\"count\":1152}\n",
      "290\t{\"low\":-328,\"high\":306,\"count\":379}\n",
      "270\t{\"low\":-211,\"high\":278,\"count\":931}\n",
      "360\t{\"low\":-267,\"high\":289,\"count\":888}\n",
      "50\t{\"low\":-322,\"high\":306,\"count\":1039}\n",
      "Removing temp directory /tmp/weather_analyzer.thomas.20231001.214501.070329...\n"
     ]
    }
   ],
   "source": [
    "!python weather_analyzer.py --no-bootstrap-mrjob 1901 1902"
   ]
  }
 ],
 "metadata": {
  "kernelspec": {
   "display_name": "Python 3 (ipykernel)",
   "language": "python",
   "name": "python3"
  },
  "language_info": {
   "codemirror_mode": {
    "name": "ipython",
    "version": 3
   },
   "file_extension": ".py",
   "mimetype": "text/x-python",
   "name": "python",
   "nbconvert_exporter": "python",
   "pygments_lexer": "ipython3",
   "version": "3.10.13"
  }
 },
 "nbformat": 4,
 "nbformat_minor": 5
}
