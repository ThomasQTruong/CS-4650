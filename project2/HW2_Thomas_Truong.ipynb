{
 "cells": [
  {
   "cell_type": "markdown",
   "metadata": {},
   "source": [
    "### <u>Homework 2: Map/Reduce</u>\n",
    "- By Thomas Truong\n",
    "\n",
    "<b>The Data</b>\n",
    "- There is a data file that needs to be analyzed by a Map/Reduce system.  The file's name is 'cs4650hw2.dat', and it is available on Canvas (Look in Modules > Extra Files > Homework 2.\n",
    "- The data represents a 2 dimensional array of cells, and there are several values in each cell. The basic task is this: for each row in the array, examine all of the values in all of the cells of that row, returning the smallest value found. At the same time, for each column in the array, examine all of the values in all of the cells in that column, returning the largest value found.\n",
    "- Now for the details:\n",
    "  - The columns are labeled 'A' through 'J', so there are 10 columns.\n",
    "  - The rows are labeled 'K' through 'T', so there are 10 rows.\n",
    "  - The values are integers from 0 to 999.\n",
    "  - The data file uses CSV format, with each line of the file giving the column name, the row name, and one of the values for that cell.  For example, some of the lines of the file might be:\n",
    "    - A,K,652\n",
    "    - A,K,378\n",
    "    - A,L,21\n",
    "    - E,M,411"
   ]
  },
  {
   "cell_type": "markdown",
   "metadata": {},
   "source": [
    "__Part 1__\n",
    "- Write a map reduce program that will examine this file, then print, for each column, the name of the column and the largest value found in that column, and for each row, the name of the row and the smallest value found in that row.  Note that the column and row names are strings, a single character.  The output should be of the form:\n",
    "  - \"A\", 564\n",
    "  - \"B\", 329\n",
    "- There should be 20 lines in the report, and they do not have to be in any particular order."
   ]
  },
  {
   "cell_type": "code",
   "execution_count": 15,
   "metadata": {},
   "outputs": [
    {
     "name": "stdout",
     "output_type": "stream",
     "text": [
      "Overwriting row_column_low_high.py\n"
     ]
    }
   ],
   "source": [
    "%%file row_column_low_high.py\n",
    "# Step 0: create a new file (lower cased + underscored).\n",
    "\"\"\"row_column_low_high.py\n",
    "\n",
    "For every column, print high; for every row, print low.\n",
    "\"\"\"\n",
    "\n",
    "# Step 1: import MRJob.\n",
    "from mrjob.job import MRJob\n",
    "\n",
    "\n",
    "# Step 2: create a class that inherits from MRJob.\n",
    "class RowColumnLowHigh(MRJob):\n",
    "  \"\"\"Extracts data from a file.\n",
    "  \n",
    "  Prints the row/column with the low/high respectively.\n",
    "  \"\"\"\n",
    "\n",
    "  # Step 3: create mapper (input: file -> data).\n",
    "  def mapper(self, _, line):\n",
    "    \"\"\"Extracts data from a line and maps it.\"\"\"\n",
    "\n",
    "    # Clean up the data.\n",
    "    cleanedLine = line.replace(\" \", \"\")      # Remove whitespaces.\n",
    "    cleanedLine = cleanedLine.split(\",\")     # Split into array.\n",
    "    cleanedLine[2] = int(cleanedLine[2])     # Make int.\n",
    "\n",
    "    # Check for valid data.\n",
    "    if (not cleanedLine[0].isalpha()):\n",
    "      return\n",
    "    if (not cleanedLine[1].isalpha()):\n",
    "      return\n",
    "    if (cleanedLine[2] < 0 or cleanedLine[2] > 999):\n",
    "      return\n",
    "\n",
    "    # Cleaning part 2: make uppercase if needed.\n",
    "    cleanedLine[0] = cleanedLine[0].upper()\n",
    "    cleanedLine[1] = cleanedLine[1].upper()\n",
    "\n",
    "    # Check part 2: A-T only.\n",
    "    if (ord(cleanedLine[1]) > 84):\n",
    "      return\n",
    "\n",
    "    # Return column/row with number.\n",
    "    yield cleanedLine[0], cleanedLine[2]\n",
    "    yield cleanedLine[1], cleanedLine[2]\n",
    "\n",
    "\n",
    "  # Step 4: create reducer (output: data -> console/file/etc).\n",
    "  def reducer(self, key, values):\n",
    "    \"\"\"Prints the row/column with the low/high respectively.\n",
    "    \n",
    "    For every column, print high.\n",
    "    For every row, print low.\n",
    "    \"\"\"\n",
    "\n",
    "    # Convert and check letter based on ASCII.\n",
    "    asciiKey = ord(key)\n",
    "    # A-J = column (max).\n",
    "    if (asciiKey >= 65 and asciiKey <= 74):\n",
    "      yield key, max(values)\n",
    "    # K-T = row (min).\n",
    "    else:\n",
    "      yield key, min(values)\n",
    "\n",
    "\n",
    "# Step 5: set up main to run program.\n",
    "if __name__ == \"__main__\":\n",
    "  RowColumnLowHigh.run()\n"
   ]
  },
  {
   "cell_type": "code",
   "execution_count": 16,
   "metadata": {},
   "outputs": [
    {
     "name": "stdout",
     "output_type": "stream",
     "text": [
      "No configs found; falling back on auto-configuration\n",
      "No configs specified for inline runner\n",
      "Creating temp directory /tmp/row_column_low_high.thomas.20231006.232407.382699\n",
      "Running step 1 of 1...\n",
      "job output is in /tmp/row_column_low_high.thomas.20231006.232407.382699/output\n",
      "Streaming final output from /tmp/row_column_low_high.thomas.20231006.232407.382699/output...\n",
      "\"R\"\t2\n",
      "\"J\"\t992\n",
      "\"T\"\t2\n",
      "\"F\"\t997\n",
      "\"A\"\t994\n",
      "\"P\"\t12\n",
      "\"G\"\t997\n",
      "\"S\"\t5\n",
      "\"I\"\t995\n",
      "\"N\"\t13\n",
      "\"E\"\t998\n",
      "\"C\"\t987\n",
      "\"D\"\t995\n",
      "\"H\"\t997\n",
      "\"M\"\t0\n",
      "\"L\"\t3\n",
      "\"K\"\t0\n",
      "\"O\"\t1\n",
      "\"Q\"\t0\n",
      "\"B\"\t999\n",
      "Removing temp directory /tmp/row_column_low_high.thomas.20231006.232407.382699...\n"
     ]
    }
   ],
   "source": [
    "!python row_column_low_high.py --no-bootstrap-mrjob cs4650hw1.dat"
   ]
  },
  {
   "cell_type": "markdown",
   "metadata": {},
   "source": [
    "__Part 2__\n",
    "- This is a second map reduce program that is similar to the first part, but has an additional feature.  For a column, the output should show the column name, the largest value in that column, and the name of one of the rows where this maximum value is found (there may be more than one cell with the same maximum value).  For each row, the output should show the row name, the smallest value in that row, and the name of one of the columns where this minimum value is found.\n",
    "- Again, the output should have 20 lines, and they do not have to be in any order.  An example of one line of the report is:\n",
    "  - \"A\", {\"value\":564, \"example\":\"M\"}"
   ]
  },
  {
   "cell_type": "code",
   "execution_count": null,
   "metadata": {},
   "outputs": [],
   "source": [
    "%%file column_min_max.py\n",
    "# Step 0: create a new file (lower cased + underscored).\n",
    "\"\"\"column_min_max.py\n",
    "\n",
    "For every column, print max and the row that has the min.\n",
    "\"\"\"\n",
    "\n",
    "# Step 1: import MRJob.\n",
    "from mrjob.job import MRJob\n",
    "\n",
    "\n",
    "# Step 2: create a class that inherits from MRJob.\n",
    "class ColumnMinMax(MRJob):\n",
    "  \"\"\"Extracts data from a file.\n",
    "  Prints the column with the largest value,\n",
    "    and the row that has the minimum value.\n",
    "  \"\"\"\n",
    "\n",
    "  # Step 3: create mapper (input: file -> data).\n",
    "  def mapper(self, _, line):\n",
    "    \"\"\"Extracts data from a line and maps it.\"\"\"\n",
    "\n",
    "    # Clean up the data.\n",
    "    cleanedLine = line.replace(\" \", \"\")      # Remove whitespaces.\n",
    "    cleanedLine = cleanedLine.split(\",\")     # Split into array.\n",
    "    cleanedLine[2] = int(cleanedLine[2])     # Make int.\n",
    "\n",
    "    # Check for valid data.\n",
    "    if (not cleanedLine[0].isalpha()):\n",
    "      return\n",
    "    if (not cleanedLine[1].isalpha()):\n",
    "      return\n",
    "    if (cleanedLine[2] < 0 or cleanedLine[2] > 999):\n",
    "      return\n",
    "\n",
    "    # Cleaning part 2: make uppercase if needed.\n",
    "    cleanedLine[0] = cleanedLine[0].upper()\n",
    "    cleanedLine[1] = cleanedLine[1].upper()\n",
    "\n",
    "    # Check part 2: A-T only.\n",
    "    if (ord(cleanedLine[1]) > 84):\n",
    "      return\n",
    "\n",
    "    # Return column/row with number.\n",
    "    yield cleanedLine[0], cleanedLine[2]\n",
    "    yield cleanedLine[1], cleanedLine[2]\n",
    "\n",
    "\n",
    "  # Step 4: create reducer (output: data -> console/file/etc).\n",
    "  def reducer(self, key, values):\n",
    "    \"\"\"Prints the column with the largest value,\n",
    "      and the row that has the minimum value.\n",
    "    \"\"\"\n",
    "    yield None\n",
    "\n",
    "\n",
    "# Step 5: set up main to run program.\n",
    "if __name__ == \"__main__\":\n",
    "  ColumnMinMax.run()\n"
   ]
  },
  {
   "cell_type": "code",
   "execution_count": null,
   "metadata": {},
   "outputs": [],
   "source": []
  },
  {
   "cell_type": "markdown",
   "metadata": {},
   "source": [
    "__Part 3__\n",
    "- This is a third map reduce program that is a further extension of Part 2.  In this case, for the output, we want to include a list of all rows/columns that have that maximum/minimum value.  Note that most rows and columns will have a unique extreme, but some will have duplicates.  This output might look like this:\n",
    "  - \"A\", [\"value\":564, \"examples\": [\"M\"]}\n",
    "  - \"D\", [\"value\":437, \"examples\": [\"L\",  \"P\"]}"
   ]
  },
  {
   "cell_type": "code",
   "execution_count": null,
   "metadata": {},
   "outputs": [],
   "source": []
  },
  {
   "cell_type": "code",
   "execution_count": null,
   "metadata": {},
   "outputs": [],
   "source": []
  }
 ],
 "metadata": {
  "kernelspec": {
   "display_name": "Python 3 (ipykernel)",
   "language": "python",
   "name": "python3"
  },
  "language_info": {
   "codemirror_mode": {
    "name": "ipython",
    "version": 3
   },
   "file_extension": ".py",
   "mimetype": "text/x-python",
   "name": "python",
   "nbconvert_exporter": "python",
   "pygments_lexer": "ipython3",
   "version": "3.10.13"
  }
 },
 "nbformat": 4,
 "nbformat_minor": 2
}
