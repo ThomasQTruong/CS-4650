{
 "cells": [
  {
   "cell_type": "code",
   "execution_count": 68,
   "metadata": {},
   "outputs": [
    {
     "name": "stdout",
     "output_type": "stream",
     "text": [
      "37.12871287128713\n",
      "38.421052631578945\n",
      "40.77669902912622\n",
      "38.20224719101124\n",
      "35.78431372549019\n",
      "29.06574394463668\n",
      "32.7944572748268\n",
      "28.801843317972352\n",
      "26.785714285714292\n",
      "28.260869565217394\n",
      "30.508474576271183\n",
      "29.36507936507936\n",
      "34.05797101449275\n",
      "26.470588235294112\n",
      "33.753943217665615\n",
      "26.821192052980138\n",
      "33.76623376623377\n",
      "29.74504249291785\n",
      "30.670103092783506\n",
      "33.78839590443686\n",
      "29.13165266106442\n",
      "34.161490683229815\n",
      "27.368421052631575\n",
      "23.550724637681164\n"
     ]
    }
   ],
   "source": [
    "\"\"\"File documentation and copyright.\n",
    "\"\"\"\n",
    "\n",
    "import pandas as pd\n",
    "import numpy as np\n",
    "import matplotlib.pyplot as plt\n",
    "\n",
    "# Name of the file.\n",
    "DATA_NAME = \"FRAFirm2.csv\"\n",
    "X_HOURS_PER_BIN = 1\n",
    "\n",
    "\n",
    "# Turns the CSV into a dataframe.\n",
    "def csv_to_dataframe():\n",
    "  data = pd.read_csv(DATA_NAME)\n",
    "  return pd.DataFrame(data)\n",
    "\n",
    "\n",
    "# Creates a bin column for the dataframe.\n",
    "def create_bin_column(dataframe, for_column, bin_name, x_hours):\n",
    "  bins = []\n",
    "  for row in dataframe.iterrows():\n",
    "    bins.append(np.ceil(row[1].get(for_column) / (x_hours * 60)) - 1)\n",
    "  dataframe[bin_name] = bins\n",
    "\n",
    "\n",
    "# Calculates the accident probability for a bin.\n",
    "def get_accident_probability(bin_number):\n",
    "  classes = [0, 0, 0]\n",
    "  for item in dataframe[dataframe.Bin == bin_number].iterrows():\n",
    "    classes[int(item[1].get(\"Class\"))] += 1\n",
    "  \n",
    "  # Get the probabilty of accident {1 - P(no accident)}.\n",
    "  return 1 - classes[0] / sum(classes)\n",
    "\n",
    "\n",
    "\n",
    "# Main part of the program starts here.\n",
    "dataframe = csv_to_dataframe()\n",
    "\n",
    "# Create bin column.\n",
    "create_bin_column(dataframe, \"Start\", \"Bin\", X_HOURS_PER_BIN)\n",
    "\n",
    "# Get chances of accident per bin.\n",
    "for i in range(0, 24 // X_HOURS_PER_BIN):\n",
    "  print(get_accident_probability(i) * 100)\n",
    "\n",
    "\n",
    "# Print dataframe.\n",
    "# dataframe\n"
   ]
  }
 ],
 "metadata": {
  "kernelspec": {
   "display_name": "Python 3",
   "language": "python",
   "name": "python3"
  },
  "language_info": {
   "codemirror_mode": {
    "name": "ipython",
    "version": 3
   },
   "file_extension": ".py",
   "mimetype": "text/x-python",
   "name": "python",
   "nbconvert_exporter": "python",
   "pygments_lexer": "ipython3",
   "version": "3.10.13"
  }
 },
 "nbformat": 4,
 "nbformat_minor": 2
}
